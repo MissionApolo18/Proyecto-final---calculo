{
  "nbformat": 4,
  "nbformat_minor": 0,
  "metadata": {
    "colab": {
      "name": "Programa - calculo.ipynb",
      "provenance": []
    },
    "kernelspec": {
      "name": "python3",
      "display_name": "Python 3"
    },
    "language_info": {
      "name": "python"
    }
  },
  "cells": [
    {
      "cell_type": "code",
      "execution_count": 1,
      "metadata": {
        "colab": {
          "base_uri": "https://localhost:8080/"
        },
        "id": "YCnNBHQDnFic",
        "outputId": "a8d25e9b-506f-40ea-9da6-46b3cf92ebb6"
      },
      "outputs": [
        {
          "output_type": "stream",
          "name": "stdout",
          "text": [
            "Ingrese el número de rectángulos a calcular: 5\n",
            "Resultado:  2.2073\n"
          ]
        }
      ],
      "source": [
        "import math\n",
        "e=math.e\n",
        "n=int(input(\"Ingrese el número de rectángulos a calcular: \"))\n",
        "a=1/n\n",
        "b=a/2\n",
        "r1=0\n",
        "r2=a*(e**b)\n",
        "\n",
        "for x in range (1,n):\n",
        "  c=b+(1/n)\n",
        "  b=c\n",
        "  r1=a*(e**c)\n",
        "  r2=r2+r1\n",
        "\n",
        "rf=r2+r1\n",
        "print(\"Resultado: \",round(rf, 4))"
      ]
    },
    {
      "cell_type": "code",
      "source": [
        "import math\n",
        "e=math.e\n",
        "n=int(input(\"Ingrese el número de rectángulos a calcular: \"))\n",
        "a=1/n\n",
        "b=a/2\n",
        "r1=0\n",
        "r2=a*(e**b)\n",
        "\n",
        "for x in range (1,n):\n",
        "  c=b+(1/n)\n",
        "  b=c\n",
        "  r1=a*(e**c)\n",
        "  r2=r2+r1\n",
        "\n",
        "rf=r2+r1\n",
        "print(\"Resultado: \",round(rf, 4))"
      ],
      "metadata": {
        "colab": {
          "base_uri": "https://localhost:8080/"
        },
        "id": "cO4A63H-oKh8",
        "outputId": "74011e7c-b89d-401e-80dd-7cd4acb793d5"
      },
      "execution_count": 2,
      "outputs": [
        {
          "output_type": "stream",
          "name": "stdout",
          "text": [
            "Ingrese el número de rectángulos a calcular: 10\n",
            "Resultado:  1.9761\n"
          ]
        }
      ]
    },
    {
      "cell_type": "code",
      "source": [
        "import math\n",
        "e=math.e\n",
        "n=int(input(\"Ingrese el número de rectángulos a calcular: \"))\n",
        "a=1/n\n",
        "b=a/2\n",
        "r1=0\n",
        "r2=a*(e**b)\n",
        "\n",
        "for x in range (1,n):\n",
        "  c=b+(1/n)\n",
        "  b=c\n",
        "  r1=a*(e**c)\n",
        "  r2=r2+r1\n",
        "\n",
        "rf=r2+r1\n",
        "print(\"Resultado: \",round(rf, 4))"
      ],
      "metadata": {
        "colab": {
          "base_uri": "https://localhost:8080/"
        },
        "id": "2yk1zdbNoM0U",
        "outputId": "6fbb1bf0-16c9-4b4d-ad59-965818847813"
      },
      "execution_count": 3,
      "outputs": [
        {
          "output_type": "stream",
          "name": "stdout",
          "text": [
            "Ingrese el número de rectángulos a calcular: 20\n",
            "Resultado:  1.8507\n"
          ]
        }
      ]
    },
    {
      "cell_type": "code",
      "source": [
        "import math\n",
        "e=math.e\n",
        "n=int(input(\"Ingrese el número de rectángulos a calcular: \"))\n",
        "a=1/n\n",
        "b=a/2\n",
        "r1=0\n",
        "r2=a*(e**b)\n",
        "\n",
        "for x in range (1,n):\n",
        "  c=b+(1/n)\n",
        "  b=c\n",
        "  r1=a*(e**c)\n",
        "  r2=r2+r1\n",
        "\n",
        "rf=r2+r1\n",
        "print(\"Resultado: \",round(rf, 4))"
      ],
      "metadata": {
        "colab": {
          "base_uri": "https://localhost:8080/"
        },
        "id": "AzrNzv1ToQPx",
        "outputId": "79d22eeb-862e-4cbc-ada6-073fd3075c9c"
      },
      "execution_count": 4,
      "outputs": [
        {
          "output_type": "stream",
          "name": "stdout",
          "text": [
            "Ingrese el número de rectángulos a calcular: 50\n",
            "Resultado:  1.7721\n"
          ]
        }
      ]
    },
    {
      "cell_type": "code",
      "source": [
        "import math\n",
        "e=math.e\n",
        "n=int(input(\"Ingrese el número de rectángulos a calcular: \"))\n",
        "a=1/n\n",
        "b=a/2\n",
        "r1=0\n",
        "r2=a*(e**b)\n",
        "\n",
        "for x in range (1,n):\n",
        "  c=b+(1/n)\n",
        "  b=c\n",
        "  r1=a*(e**c)\n",
        "  r2=r2+r1\n",
        "\n",
        "rf=r2+r1\n",
        "print(\"Resultado: \",round(rf, 4))"
      ],
      "metadata": {
        "colab": {
          "base_uri": "https://localhost:8080/"
        },
        "id": "QZVfF2JjoS_6",
        "outputId": "9da2e350-fa22-46c8-89e9-dd8b96929933"
      },
      "execution_count": 5,
      "outputs": [
        {
          "output_type": "stream",
          "name": "stdout",
          "text": [
            "Ingrese el número de rectángulos a calcular: 100\n",
            "Resultado:  1.7453\n"
          ]
        }
      ]
    },
    {
      "cell_type": "code",
      "source": [
        "import math\n",
        "e=math.e\n",
        "n=int(input(\"Ingrese el número de rectángulos a calcular: \"))\n",
        "a=1/n\n",
        "b=a/2\n",
        "r1=0\n",
        "r2=a*(e**b)\n",
        "\n",
        "for x in range (1,n):\n",
        "  c=b+(1/n)\n",
        "  b=c\n",
        "  r1=a*(e**c)\n",
        "  r2=r2+r1\n",
        "\n",
        "rf=r2+r1\n",
        "print(\"Resultado: \",round(rf, 4))"
      ],
      "metadata": {
        "colab": {
          "base_uri": "https://localhost:8080/"
        },
        "id": "sHFP-66uoU9d",
        "outputId": "c15bc126-1032-41c0-cc64-92ac345f0db5"
      },
      "execution_count": 6,
      "outputs": [
        {
          "output_type": "stream",
          "name": "stdout",
          "text": [
            "Ingrese el número de rectángulos a calcular: 1000\n",
            "Resultado:  1.721\n"
          ]
        }
      ]
    }
  ]
}